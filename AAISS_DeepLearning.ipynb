{
  "nbformat": 4,
  "nbformat_minor": 0,
  "metadata": {
    "colab": {
      "name": "AAISS-DeepLearning.ipynb",
      "provenance": [],
      "collapsed_sections": [],
      "authorship_tag": "ABX9TyNqIbqGCWFODfVWQguBBTGh",
      "include_colab_link": true
    },
    "kernelspec": {
      "name": "python3",
      "display_name": "Python 3"
    }
  },
  "cells": [
    {
      "cell_type": "markdown",
      "metadata": {
        "id": "view-in-github",
        "colab_type": "text"
      },
      "source": [
        "<a href=\"https://colab.research.google.com/github/M-H-Amini/AAISS-2020/blob/master/AAISS_DeepLearning.ipynb\" target=\"_parent\"><img src=\"https://colab.research.google.com/assets/colab-badge.svg\" alt=\"Open In Colab\"/></a>"
      ]
    },
    {
      "cell_type": "markdown",
      "metadata": {
        "id": "6ivY0ss_KViv",
        "colab_type": "text"
      },
      "source": [
        "# In The Name Of ALLAH\n",
        "# Dive Into Deep Learning\n",
        "## AAISS\n",
        "## Tehran Polytechnic\n",
        "### Mohammad Hossein Amini (mhamini@aut.ac.ir)\n",
        "\n",
        "<img src=\"https://drive.google.com/uc?id=1ZJC1oII4kLDO1FM8SkaWr8_r63xrmrsn\" width=\"400\">\n",
        "\n"
      ]
    },
    {
      "cell_type": "markdown",
      "metadata": {
        "id": "1n24wBWsKchA",
        "colab_type": "text"
      },
      "source": [
        "# Simple Linear Regression\n",
        "Let's make a tiny dataset to begin exploring! We would make a simple noise-corrupted line and try to fit a neural net to it. Let's do it."
      ]
    },
    {
      "cell_type": "code",
      "metadata": {
        "id": "yIW08HXKAPgj",
        "colab_type": "code",
        "colab": {}
      },
      "source": [
        "import numpy as np\n",
        "import matplotlib.pyplot as plt\n",
        "import keras"
      ],
      "execution_count": null,
      "outputs": []
    },
    {
      "cell_type": "markdown",
      "metadata": {
        "id": "qLvXeClMKxIm",
        "colab_type": "text"
      },
      "source": [
        "# Creating Dataset\n"
      ]
    },
    {
      "cell_type": "code",
      "metadata": {
        "id": "Z6r-IfPZAW1l",
        "colab_type": "code",
        "colab": {}
      },
      "source": [
        "X = np.linspace(10, 50, 30)[:, np.newaxis]\n",
        "y = 2.4 * X + 3.5 + 10 * np.random.rand(*X.shape)\n",
        "\n",
        "print(X.shape, y.shape)\n",
        "\n",
        "plt.figure()\n",
        "plt.plot(X, y, 'rx')\n",
        "plt.show()"
      ],
      "execution_count": null,
      "outputs": []
    },
    {
      "cell_type": "markdown",
      "metadata": {
        "id": "cbYzXC2FgbSv",
        "colab_type": "text"
      },
      "source": [
        "# Creating Model\n",
        "Time to create the neural net! Thanks to **keras**, it's super easy."
      ]
    },
    {
      "cell_type": "code",
      "metadata": {
        "id": "hlReuFnbL3YE",
        "colab_type": "code",
        "colab": {}
      },
      "source": [
        "model = keras.Sequential()\n",
        "model.add(keras.layers.Dense(1, activation='linear', input_shape=(1,)))\n",
        "model.summary()"
      ],
      "execution_count": null,
      "outputs": []
    },
    {
      "cell_type": "code",
      "metadata": {
        "id": "lq9hUbhQvXPo",
        "colab_type": "code",
        "colab": {}
      },
      "source": [
        "model.compile(optimizer=keras.optimizers.Adam(1), loss='mse')"
      ],
      "execution_count": null,
      "outputs": []
    },
    {
      "cell_type": "code",
      "metadata": {
        "id": "AIEMON8yv3Wi",
        "colab_type": "code",
        "colab": {}
      },
      "source": [
        "model.fit(X, y, batch_size=8, epochs=10)"
      ],
      "execution_count": null,
      "outputs": []
    },
    {
      "cell_type": "markdown",
      "metadata": {
        "id": "tE_CInDPgvOC",
        "colab_type": "text"
      },
      "source": [
        "# Testing The Model"
      ]
    },
    {
      "cell_type": "code",
      "metadata": {
        "id": "T1kvPVpZgzkr",
        "colab_type": "code",
        "colab": {}
      },
      "source": [
        "outputs = model.predict(X)\n",
        "plt.figure()\n",
        "plt.plot(X, y, 'rx', X, outputs, 'bo')\n",
        "plt.title('Testing the model...')\n",
        "plt.show()"
      ],
      "execution_count": null,
      "outputs": []
    },
    {
      "cell_type": "markdown",
      "metadata": {
        "id": "QpW73cKlxj1y",
        "colab_type": "text"
      },
      "source": [
        "# XOR Example"
      ]
    },
    {
      "cell_type": "code",
      "metadata": {
        "id": "CPFYZ4C9xgtU",
        "colab_type": "code",
        "colab": {}
      },
      "source": [
        "X = np.array([[0, 0],\n",
        "              [0, 1],\n",
        "              [1, 0],\n",
        "              [1, 1]])\n",
        "y = np.array([[0], [1], [1], [0]])"
      ],
      "execution_count": null,
      "outputs": []
    },
    {
      "cell_type": "code",
      "metadata": {
        "id": "lhlsgPuNxyyL",
        "colab_type": "code",
        "colab": {}
      },
      "source": [
        "model = keras.Sequential([keras.layers.Dense(2, activation='sigmoid', input_shape=(2,)),\n",
        "                          keras.layers.Dense(1, activation='sigmoid')])\n",
        "model.summary()"
      ],
      "execution_count": null,
      "outputs": []
    },
    {
      "cell_type": "code",
      "metadata": {
        "id": "-N0_2NwzyMqY",
        "colab_type": "code",
        "colab": {}
      },
      "source": [
        "model.compile(optimizer=keras.optimizers.Adam(0.01), loss='binary_crossentropy')"
      ],
      "execution_count": null,
      "outputs": []
    },
    {
      "cell_type": "code",
      "metadata": {
        "id": "tZ3BbQnwyUkt",
        "colab_type": "code",
        "colab": {}
      },
      "source": [
        "model.fit(X, y, batch_size=1, epochs=20)"
      ],
      "execution_count": null,
      "outputs": []
    },
    {
      "cell_type": "code",
      "metadata": {
        "id": "iKdXtjSeyZJx",
        "colab_type": "code",
        "colab": {}
      },
      "source": [
        "for i in range(4):\n",
        "  print(f'Input: {X[i,:]} \\t Target:{y[i, :]} \\t Output:{model.predict(X[i:i+1, :])}')"
      ],
      "execution_count": null,
      "outputs": []
    },
    {
      "cell_type": "code",
      "metadata": {
        "id": "GQmmV9BQzJ8V",
        "colab_type": "code",
        "colab": {}
      },
      "source": [
        ""
      ],
      "execution_count": null,
      "outputs": []
    }
  ]
}